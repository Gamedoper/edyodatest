{
 "cells": [
  {
   "cell_type": "code",
   "execution_count": null,
   "metadata": {},
   "outputs": [],
   "source": [
    "#1\n",
    "x,y=input().split()\n",
    "print(x,y)\n",
    "x = int(x)\n",
    "y= int(y)\n",
    "\n",
    "if x == y:\n",
    "    print((x+y)*2)\n",
    "else:\n",
    "    print(x + y)\n",
    "\n",
    "        "
   ]
  },
  {
   "cell_type": "code",
   "execution_count": null,
   "metadata": {},
   "outputs": [],
   "source": [
    "#2\n",
    "\n",
    "cost_price = int(input())\n",
    "selling_price = int(input())\n",
    "\n",
    "if selling_price > cost_price:\n",
    "    print(\"profit\")\n",
    "else:\n",
    "    selling_price < cost_price\n",
    "    print(\"loss\")\n",
    "    \n",
    "        \n"
   ]
  },
  {
   "cell_type": "code",
   "execution_count": null,
   "metadata": {},
   "outputs": [],
   "source": [
    "# 3)\n",
    "\n",
    "print(\"Input lengths of the triangle sides: \")\n",
    "x = int(input(\"x: \"))\n",
    "y = int(input(\"y: \"))\n",
    "z = int(input(\"z: \"))\n",
    "\n",
    "if x == y == z:\n",
    "    print(\"triangle\")\n",
    "else:\n",
    "    print(\"Not a traingle\")"
   ]
  },
  {
   "cell_type": "code",
   "execution_count": null,
   "metadata": {},
   "outputs": [],
   "source": [
    "# 4)\n",
    "\n",
    "x = [int(i) for i in input().split()]\n",
    "#enter number with spcaces\n",
    "\n",
    "print(x)\n",
    "\n",
    "x.sort()\n",
    "\n",
    "print(x[-1])\n",
    "        \n",
    "    "
   ]
  },
  {
   "cell_type": "code",
   "execution_count": null,
   "metadata": {},
   "outputs": [],
   "source": [
    "#5 \n",
    "\n",
    "def fibo(n):\n",
    "    if n<2:\n",
    "        return n\n",
    "    else:\n",
    "        return fibo(n-1) + fibo(n-2)\n",
    "\n",
    "n = int(input())\n",
    "\n",
    "for i in range(n+1):\n",
    "    print(fibo(i),end = \" \")  \n",
    "\n",
    "    "
   ]
  },
  {
   "cell_type": "code",
   "execution_count": null,
   "metadata": {},
   "outputs": [],
   "source": [
    "# 6\n",
    "\n",
    "some_str =input(\"Enter a sentence :\\n\")\n",
    "vowe_str=\"\"\n",
    "vowels='aeiou'\n",
    "for i in some_str:\n",
    "    if i in vowels:\n",
    "        vowe_str=vowe_str+i.upper()\n",
    "    else :\n",
    "        vowe_str=vowe_str+i\n",
    "print (vowe_str)"
   ]
  },
  {
   "cell_type": "code",
   "execution_count": null,
   "metadata": {},
   "outputs": [],
   "source": [
    "#7\n",
    "\n",
    "def is_float(num):\n",
    "    if type(num) == float:\n",
    "        return True\n",
    "    return False\n",
    "\n",
    "\n",
    "if is_float(14.55):\n",
    "    print(\"The Floating point num\")\n",
    "else:\n",
    "    print(\"Not Floating point number\")"
   ]
  },
  {
   "cell_type": "code",
   "execution_count": null,
   "metadata": {},
   "outputs": [],
   "source": [
    "#8\n",
    "\n",
    "a = [[10,20,30], [40,50,60], [70,80,90]]\n",
    "b = [[1,2,3], [4,5,6], [7,8,9]]\n",
    "\n",
    "c = [[0,0,0], [0,0,0], [0,0,0]] \n",
    "\n",
    "for i in range(len(a)):    \n",
    "    for j in range(len(a[0])): \n",
    "        c[i][j] = a[i][j] + b[i][j]\n",
    "        \n",
    "print(c)"
   ]
  },
  {
   "cell_type": "code",
   "execution_count": null,
   "metadata": {},
   "outputs": [],
   "source": [
    "#9\n",
    "\n",
    "nums = [10,10,20,10,30,20]\n",
    "\n",
    "dict_f = {} \n",
    "for item in nums: \n",
    "    if (item in dict_f):\n",
    "        dict_f[item] += 1\n",
    "    else:\n",
    "        dict_f[item] = 1\n",
    "  \n",
    "\n",
    "print(dict_f)\n",
    "  "
   ]
  },
  {
   "cell_type": "code",
   "execution_count": null,
   "metadata": {},
   "outputs": [],
   "source": [
    "\n",
    "import re\n",
    "p= input(\"Input your password\")\n",
    "\n",
    "check = re.compile(\"(?=.*\\d)(?=.*[a-z])(?=.*[A-Z])(?=.*[@#$%]).{6,12}\")\n",
    "\n",
    "print(check)\n",
    "\n",
    "l= re.search(check,p)\n",
    "\n",
    "if l:\n",
    "    print(\"valid password\")\n",
    "else:\n",
    "    print(\"invalid password\")\n",
    "        "
   ]
  },
  {
   "cell_type": "code",
   "execution_count": null,
   "metadata": {},
   "outputs": [],
   "source": [
    "# file1 = open(\"myfile1.txt\",\"r\" encoding) \n",
    "# content1 = file1.read()\n",
    "# file1.close()\n",
    "\n",
    "# file2 = open(\"myfile2.txt\",\"r\" encoding=\"UTF-8\")\n",
    "# content2 = file2.read()\n",
    "# file2.close()\n",
    "\n",
    "\n",
    "# file3 = open(\"myfile3.txt\",\"w\")\n",
    "\n",
    "\n",
    "\n",
    "# file3 = open(\"concatenated.txt\", \"w\") \n",
    "# file3.write(content1 + content2)\n",
    "# print(file3)\n",
    "\n",
    "filenames = ['myfile1.txt', 'myfile2.txt']\n",
    "with open('concatenated.txt', 'w') as outfile:\n",
    "    for fname in filenames:\n",
    "        with open(fname) as infile:\n",
    "            outfile.write(infile.read())"
   ]
  },
  {
   "cell_type": "code",
   "execution_count": null,
   "metadata": {},
   "outputs": [],
   "source": [
    "# e-164 number validation\n",
    "\n",
    "\n",
    "import re\n",
    "\n",
    "p= input(\"Input your number\")\n",
    "\n",
    "check = re.compile(\"^(\\+?[1-9])\\d{1,14}$\")\n",
    "\n",
    "print(check)\n",
    "\n",
    "l= re.search(check,p)\n",
    "\n",
    "if l:\n",
    "    print(\"valid Number\")\n",
    "else:\n",
    "    print(\"invalid---- invalid\")\n",
    "        "
   ]
  },
  {
   "cell_type": "code",
   "execution_count": null,
   "metadata": {},
   "outputs": [],
   "source": [
    "# ticket \n",
    "import re\n",
    "\n",
    "string1 = input()\n",
    "\n",
    "r = re.compile(\"^[INC][A-Z]{2}[0-9]{1}[0-9]{2}$\")\n",
    "\n",
    "l = re.findall(r,string1)\n",
    "\n",
    "if l:\n",
    "    print(\"valid ticket number\")\n",
    "else:\n",
    "    print(\"invalid ticket number\")\n",
    "        "
   ]
  },
  {
   "cell_type": "code",
   "execution_count": null,
   "metadata": {},
   "outputs": [],
   "source": []
  }
 ],
 "metadata": {
  "kernelspec": {
   "display_name": "Python 3",
   "language": "python",
   "name": "python3"
  },
  "language_info": {
   "codemirror_mode": {
    "name": "ipython",
    "version": 3
   },
   "file_extension": ".py",
   "mimetype": "text/x-python",
   "name": "python",
   "nbconvert_exporter": "python",
   "pygments_lexer": "ipython3",
   "version": "3.7.4"
  }
 },
 "nbformat": 4,
 "nbformat_minor": 2
}
