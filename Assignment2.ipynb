{
 "cells": [
  {
   "cell_type": "code",
   "execution_count": 23,
   "metadata": {},
   "outputs": [
    {
     "name": "stdout",
     "output_type": "stream",
     "text": [
      "10 10\n",
      "10 10\n",
      "40\n"
     ]
    }
   ],
   "source": [
    "#1\n",
    "x,y=input().split()\n",
    "print(x,y)\n",
    "x = int(x)\n",
    "y= int(y)\n",
    "\n",
    "if x == y:\n",
    "    print((x+y)*2)\n",
    "else:\n",
    "    print(x + y)\n",
    "\n",
    "        "
   ]
  },
  {
   "cell_type": "code",
   "execution_count": 27,
   "metadata": {},
   "outputs": [
    {
     "name": "stdout",
     "output_type": "stream",
     "text": [
      "200\n",
      "100\n",
      "loss\n"
     ]
    }
   ],
   "source": [
    "#2\n",
    "\n",
    "cost_price = int(input())\n",
    "selling_price = int(input())\n",
    "\n",
    "if selling_price > cost_price:\n",
    "    print(\"profit\")\n",
    "else:\n",
    "    selling_price < cost_price\n",
    "    print(\"loss\")\n",
    "    \n",
    "        \n"
   ]
  },
  {
   "cell_type": "code",
   "execution_count": 31,
   "metadata": {},
   "outputs": [
    {
     "name": "stdout",
     "output_type": "stream",
     "text": [
      "Input lengths of the triangle sides: \n",
      "x: 10\n",
      "y: 10\n",
      "z: 10\n",
      "triangle\n"
     ]
    }
   ],
   "source": [
    "# 3)\n",
    "\n",
    "print(\"Input lengths of the triangle sides: \")\n",
    "x = int(input(\"x: \"))\n",
    "y = int(input(\"y: \"))\n",
    "z = int(input(\"z: \"))\n",
    "\n",
    "if x == y == z:\n",
    "    print(\"triangle\")\n",
    "else:\n",
    "    print(\"Not a traingle\")"
   ]
  },
  {
   "cell_type": "code",
   "execution_count": 40,
   "metadata": {},
   "outputs": [
    {
     "name": "stdout",
     "output_type": "stream",
     "text": [
      "10 20 40 90 10\n",
      "[10, 20, 40, 90, 10]\n",
      "90\n"
     ]
    }
   ],
   "source": [
    "# 4)\n",
    "\n",
    "x = [int(i) for i in input().split()]\n",
    "#enter number with spcaces\n",
    "\n",
    "print(x)\n",
    "\n",
    "x.sort()\n",
    "\n",
    "print(x[-1])\n",
    "        \n",
    "    "
   ]
  },
  {
   "cell_type": "code",
   "execution_count": 8,
   "metadata": {},
   "outputs": [
    {
     "name": "stdout",
     "output_type": "stream",
     "text": [
      "15\n",
      "0 1 1 2 3 5 8 13 21 34 55 89 144 233 377 610 "
     ]
    }
   ],
   "source": [
    "#5 \n",
    "\n",
    "def fibo(n):\n",
    "    if n<2:\n",
    "        return n\n",
    "    else:\n",
    "        return fibo(n-1) + fibo(n-2)\n",
    "\n",
    "n = int(input())\n",
    "\n",
    "for i in range(n+1):\n",
    "    print(fibo(i),end = \" \")  \n",
    "\n",
    "    "
   ]
  },
  {
   "cell_type": "code",
   "execution_count": 2,
   "metadata": {},
   "outputs": [
    {
     "name": "stdout",
     "output_type": "stream",
     "text": [
      "Enter a sentence :\n",
      "sadasdad\n",
      "sAdAsdAd\n"
     ]
    }
   ],
   "source": [
    "# 6\n",
    "\n",
    "some_str =input(\"Enter a sentence :\\n\")\n",
    "vowe_str=\"\"\n",
    "vowels='aeiou'\n",
    "for i in some_str:\n",
    "    if i in vowels:\n",
    "        vowe_str=vowe_str+i.upper()\n",
    "    else :\n",
    "        vowe_str=vowe_str+i\n",
    "print (vowe_str)"
   ]
  },
  {
   "cell_type": "code",
   "execution_count": 26,
   "metadata": {},
   "outputs": [
    {
     "data": {
      "text/plain": [
       "True"
      ]
     },
     "execution_count": 26,
     "metadata": {},
     "output_type": "execute_result"
    }
   ],
   "source": [
    "#7\n",
    "\n",
    "def is_number(s):\n",
    "    if float(s):\n",
    "        return True\n",
    "    else:\n",
    "        return False\n",
    "\n",
    "# is_number(5.11)\n",
    "is_number(5)"
   ]
  },
  {
   "cell_type": "code",
   "execution_count": 44,
   "metadata": {},
   "outputs": [
    {
     "name": "stdout",
     "output_type": "stream",
     "text": [
      "[[11, 22, 33], [44, 55, 66], [77, 88, 99]]\n"
     ]
    }
   ],
   "source": [
    "#8\n",
    "\n",
    "a = [[10,20,30], [40,50,60], [70,80,90]]\n",
    "b = [[1,2,3], [4,5,6], [7,8,9]]\n",
    "\n",
    "c = [[0,0,0], [0,0,0], [0,0,0]] \n",
    "\n",
    "for i in range(len(a)):    \n",
    "    for j in range(len(a[0])): \n",
    "        c[i][j] = a[i][j] + b[i][j]\n",
    "        \n",
    "print(c)"
   ]
  },
  {
   "cell_type": "code",
   "execution_count": 4,
   "metadata": {},
   "outputs": [
    {
     "name": "stdout",
     "output_type": "stream",
     "text": [
      "{10: 3, 20: 2, 30: 1}\n"
     ]
    }
   ],
   "source": [
    "#9\n",
    "\n",
    "nums = [10,10,20,10,30,20]\n",
    "\n",
    "dict_f = {} \n",
    "for item in nums: \n",
    "    if (item in dict_f):\n",
    "        dict_f[item] += 1\n",
    "    else:\n",
    "        dict_f[item] = 1\n",
    "  \n",
    "\n",
    "print(dict_f)\n",
    "  "
   ]
  },
  {
   "cell_type": "code",
   "execution_count": null,
   "metadata": {},
   "outputs": [],
   "source": [
    "\n",
    "import re\n",
    "p= input(\"Input your password\")\n",
    "\n",
    "check = re.compile(\"(?=.*\\d)(?=.*[a-z])(?=.*[A-Z])(?=.*[@#$%]).{6,12}\")\n",
    "\n",
    "print(check)\n",
    "\n",
    "l= re.search(check,p)\n",
    "\n",
    "if l:\n",
    "    print(\"valid password\")\n",
    "else:\n",
    "    print(\"invalid password\")\n",
    "        "
   ]
  },
  {
   "cell_type": "code",
   "execution_count": null,
   "metadata": {},
   "outputs": [],
   "source": []
  },
  {
   "cell_type": "code",
   "execution_count": null,
   "metadata": {},
   "outputs": [],
   "source": []
  },
  {
   "cell_type": "code",
   "execution_count": null,
   "metadata": {},
   "outputs": [],
   "source": []
  },
  {
   "cell_type": "code",
   "execution_count": null,
   "metadata": {},
   "outputs": [],
   "source": []
  }
 ],
 "metadata": {
  "kernelspec": {
   "display_name": "Python 3",
   "language": "python",
   "name": "python3"
  },
  "language_info": {
   "codemirror_mode": {
    "name": "ipython",
    "version": 3
   },
   "file_extension": ".py",
   "mimetype": "text/x-python",
   "name": "python",
   "nbconvert_exporter": "python",
   "pygments_lexer": "ipython3",
   "version": "3.7.4"
  }
 },
 "nbformat": 4,
 "nbformat_minor": 2
}
